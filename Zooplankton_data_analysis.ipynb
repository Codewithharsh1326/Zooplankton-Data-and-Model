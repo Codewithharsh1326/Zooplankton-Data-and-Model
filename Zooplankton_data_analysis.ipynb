{
  "nbformat": 4,
  "nbformat_minor": 0,
  "metadata": {
    "colab": {
      "provenance": []
    },
    "kernelspec": {
      "name": "python3",
      "display_name": "Python 3"
    },
    "language_info": {
      "name": "python"
    }
  },
  "cells": [
    {
      "cell_type": "code",
      "execution_count": 1,
      "metadata": {
        "colab": {
          "base_uri": "https://localhost:8080/"
        },
        "id": "9Z9E7V6vYJaC",
        "outputId": "518e48e3-9fdd-4224-d4c6-25dff89e9433"
      },
      "outputs": [
        {
          "output_type": "stream",
          "name": "stdout",
          "text": [
            "  % Total    % Received % Xferd  Average Speed   Time    Time     Time  Current\n",
            "                                 Dload  Upload   Total   Spent    Left  Speed\n",
            "100 7159M  100 7159M    0     0  1649k      0  1:14:04  1:14:04 --:--:-- 3286k\n"
          ]
        }
      ],
      "source": [
        "!curl -O \"https://www.seanoe.org/data/00829/94052/data/101141.zip\""
      ]
    },
    {
      "cell_type": "code",
      "source": [
        "!curl -O \"https://www.seanoe.org/data/00828/94040/data/101095.zip\""
      ],
      "metadata": {
        "colab": {
          "base_uri": "https://localhost:8080/"
        },
        "id": "YMVZqf_MEz0O",
        "outputId": "5dc8b9bd-46a7-4896-9ea4-e3a8f2896255"
      },
      "execution_count": 8,
      "outputs": [
        {
          "output_type": "stream",
          "name": "stdout",
          "text": [
            "  % Total    % Received % Xferd  Average Speed   Time    Time     Time  Current\n",
            "                                 Dload  Upload   Total   Spent    Left  Speed\n",
            "100 1299M  100 1299M    0     0  5627k      0  0:03:56  0:03:56 --:--:-- 10.1M\n"
          ]
        }
      ]
    },
    {
      "cell_type": "code",
      "source": [
        "import zipfile\n",
        "from tqdm import tqdm\n",
        "\n",
        "zip_path = \"/content/101095.zip\"       # path to your zip file\n",
        "extract_path = \"/content/101095_folder\" # destination folder\n",
        "\n",
        "with zipfile.ZipFile(zip_path, 'r') as zip_ref:\n",
        "    files = zip_ref.namelist()\n",
        "    for file in tqdm(files, desc=\"Unzipping\", unit=\"file\"):\n",
        "        zip_ref.extract(file, extract_path)"
      ],
      "metadata": {
        "colab": {
          "base_uri": "https://localhost:8080/"
        },
        "id": "R8Mkt7G5Y0_z",
        "outputId": "f87acf5f-f424-4b0a-b14f-4ec99c4ec1f5"
      },
      "execution_count": 9,
      "outputs": [
        {
          "output_type": "stream",
          "name": "stderr",
          "text": [
            "Unzipping: 100%|██████████| 702239/702239 [02:08<00:00, 5485.61file/s]\n"
          ]
        }
      ]
    },
    {
      "cell_type": "code",
      "source": [],
      "metadata": {
        "id": "cQ0IPN9TqMUg"
      },
      "execution_count": null,
      "outputs": []
    },
    {
      "cell_type": "markdown",
      "metadata": {
        "id": "a7cf8fbc"
      },
      "source": [
        "# Task\n",
        "Analyze the directory \"/content/101141_folder/individual_images\" to count the number of images in each subdirectory (class), calculate the size of each subdirectory in MB, and present the results in a pandas DataFrame sorted by image count in ascending order. Finally, save the DataFrame to a CSV file and display the DataFrame."
      ]
    },
    {
      "cell_type": "markdown",
      "metadata": {
        "id": "6d15fdfe"
      },
      "source": [
        "## List directories and count images\n",
        "\n",
        "### Subtask:\n",
        "Get a list of all subdirectories within `/content/101141_folder/individual_images` and count the number of image files in each.\n"
      ]
    },
    {
      "cell_type": "markdown",
      "metadata": {
        "id": "67285cf6"
      },
      "source": [
        "**Reasoning**:\n",
        "The subtask requires iterating through subdirectories and counting image files, which can be accomplished by importing the `os` module and using its functions to list directories and files.\n",
        "\n"
      ]
    },
    {
      "cell_type": "code",
      "metadata": {
        "colab": {
          "base_uri": "https://localhost:8080/"
        },
        "id": "bb76cbc6",
        "outputId": "dc5be63e-eb68-4eaa-a555-63d2b7c9f78c"
      },
      "source": [
        "import os\n",
        "\n",
        "main_dir = \"/content/101141_folder/individual_images\"\n",
        "image_counts = {}\n",
        "\n",
        "for entry in os.listdir(main_dir):\n",
        "    entry_path = os.path.join(main_dir, entry)\n",
        "    if os.path.isdir(entry_path):\n",
        "        image_files = [f for f in os.listdir(entry_path) if f.lower().endswith(('.jpg', '.jpeg', '.png'))]\n",
        "        image_counts[entry] = len(image_files)\n",
        "\n",
        "print(image_counts)"
      ],
      "execution_count": 10,
      "outputs": [
        {
          "output_type": "stream",
          "name": "stdout",
          "text": [
            "{'Nannosquillidae__45061': 2, 'Paguridae__83500': 4, 'Aetideidae__61995': 75, 'dead_Copepoda__84964': 17151, 'part_Ctenophora__85187': 319, 'Penaeoidea__92080': 7, 'pluteus_Echinoidea__85000': 1441, 'zoea_Galatheidae__84989': 660, 'nauplii_Crustacea__85116': 10747, 'larvae_Crustacea__85114': 114, 'part_Cnidaria__84970': 692, 'Rhincalanidae__61977': 127, 'Oithonidae__62005': 110510, 'Obelia__72344': 1016, 'egg_other__85078': 2281, 'Foraminifera__11758': 384, 'Euchaetidae__61986': 12957, 'Branchiostoma__25925': 210, 'badfocus_Copepoda__92042': 11656, 'Cephalopoda__12906': 3, 'eudoxie_Diphyidae__84977': 69, 'Neoceratium__18758': 4830, 'ephyra_Scyphozoa__85188': 64, 'Salpida__25942': 470, 'tail_Appendicularia__85004': 11349, 'part_Thaliacea__92235': 44, 'Oncaeidae__78418': 34651, 'siphonula__85127': 20, 'tornaria larvae__92754': 83, 'Heterorhabdidae__61985': 205, 'badfocus_artefact__85061': 34507, 'phyllosoma__84988': 8, 'artefact__85008': 60718, 'Thecosomata__91704': 59, 'Atlanta__92139': 43, 'part_Annelida__84966': 121, 'larvae_Annelida__84965': 708, 'Calocalanus__80164': 1196, 'bubble__85060': 1112, 'larvae_Mysida__92712': 73, 'larvae_Echinodermata__92801': 2200, 'egg sac_egg__92843': 394, 'nauplii_Cirripedia__84997': 6008, 'Nemertea__11493': 31, 'Liriope tetraphylla__81862': 121, 'Doliolida__25944': 128, 'Cumacea__45052': 180, 'calyptopsis_Euphausiacea__84993': 3246, 'actinula_Hydrozoa__85190': 49, 'Lubbockia__93061': 1, 'protozoea_Mysida__84995': 229, 'gonophore_Diphyidae__85185': 1462, 'zoea_Decapoda__84986': 1405, 'detritus__84963': 219541, 'protozoea_Sergestidae__84994': 12, 'Cnidaria_Metazoa__11512': 4974, 'Metridinidae__61982': 15081, 'Peltidiidae__93861': 133, 'Microsetella__92324': 1169, 'other_living__85011': 5861, 'Temoridae__61973': 31335, 'cypris__84998': 2363, 'scale__85118': 53, 'Acartiidae__61996': 66353, 'Fritillariidae__25930': 3635, 'Corycaeidae__78426': 4720, 'cyphonaute__84967': 2218, 'Bivalvia_Mollusca__12908': 3766, 'nectophore_Diphyidae__84976': 14389, 'Ctenophora_Metazoa__11511': 126, 'Eucalanidae__61987': 839, 'Pleuromamma__80154': 695, 'Sapphirinidae__78412': 21, 'multiple_Copepoda__85044': 961, 'Isopoda__45051': 123, 'Noctiluca_Noctilucaceae__58408': 20784, 'larvae_Porcellanidae__92238': 2838, 'pilidium_Nemertea__92113': 12, 'Harpacticoida__45071': 1697, 'Aglaura__72431': 1113, 'multiple_other__85079': 10303, 'trunk_Appendicularia__92112': 1210, 'Chaetognatha__11514': 7329, 'egg unkn temp_Engraulidae temp__85345': 192, 'Calanoida__45074': 149956, 'Ostracoda__30815': 341, 'Actiniaria__25951': 13, 'Tomopteridae__25631': 618, 'Candaciidae__61991': 2773, 'Actinopterygii__56693': 2113, 'Phoronida__11491': 163, 'Solmundella bitentaculata__81856': 178, 'Cymbulia peroni__92132': 3, 'Diatoma__28189': 1084, 'bract_Diphyidae__92230': 386, 'tail_Chaetognatha__84968': 251, 'Insecta__16627': 3, 'Amphipoda__45054': 853, 'Centropagidae__61990': 14651, 'Eumalacostraca__25824': 9815, 'protozoea_Penaeidae__84987': 28, 'part_Siphonophorae__92039': 12976, 'Harosa__5': 374, 'Annelida__11518': 2434, 'Appendicularia__85123': 34027, 'Euterpina__62036': 2870, 'Cladocera__45036': 18213, 'Limacinidae__26524': 6423, 'larvae_Squillidae__84996': 4, 'Haloptilus__80121': 5, 'Cavoliniidae__26480': 21, 'Monstrilloida__45069': 1, 'Echinodermata__11509': 253, 'nectophore_Physonectae__84980': 696, 'pluteus_Ophiuroidea__84999': 640, 'like_Laomediidae__84992': 36, 'Creseidae__26525': 7, 'megalopa__84991': 460, 'Pontellidae__61980': 299, 'Calanidae__61993': 91513, 'fiber_detritus__85076': 25124, 'Decapoda__45043': 471, 'Euphausiacea__45041': 1195, 'egg_Actinopterygii__85117': 3596, 'Euchirella__80117': 239, 'part_Crustacea__85115': 7530, 'Mysida__45048': 885}\n"
          ]
        }
      ]
    },
    {
      "cell_type": "markdown",
      "metadata": {
        "id": "d903b183"
      },
      "source": [
        "## Calculate directory sizes\n",
        "\n",
        "### Subtask:\n",
        "Calculate the size of each subdirectory in MB.\n"
      ]
    },
    {
      "cell_type": "markdown",
      "metadata": {
        "id": "f6691f6f"
      },
      "source": [
        "**Reasoning**:\n",
        "Calculate the size of each subdirectory in MB by iterating through the directories and summing up the sizes of the files within them.\n",
        "\n"
      ]
    },
    {
      "cell_type": "code",
      "metadata": {
        "colab": {
          "base_uri": "https://localhost:8080/"
        },
        "id": "78b42357",
        "outputId": "49a98df3-c802-462e-a12a-fc8e4a6827f9"
      },
      "source": [
        "dir_sizes = {}\n",
        "\n",
        "for dir_name in image_counts.keys():\n",
        "    dir_path = os.path.join(main_dir, dir_name)\n",
        "    total_size = 0\n",
        "    for dirpath, dirnames, filenames in os.walk(dir_path):\n",
        "        for f in filenames:\n",
        "            fp = os.path.join(dirpath, f)\n",
        "            total_size += os.path.getsize(fp)\n",
        "    dir_sizes[dir_name] = total_size / (1024 * 1024)\n",
        "\n",
        "print(dir_sizes)"
      ],
      "execution_count": 11,
      "outputs": [
        {
          "output_type": "stream",
          "name": "stdout",
          "text": [
            "{'Nannosquillidae__45061': 0.031023025512695312, 'Paguridae__83500': 0.3491649627685547, 'Aetideidae__61995': 1.1797285079956055, 'dead_Copepoda__84964': 92.84973812103271, 'part_Ctenophora__85187': 6.643007278442383, 'Penaeoidea__92080': 0.20598125457763672, 'pluteus_Echinoidea__85000': 4.805417060852051, 'zoea_Galatheidae__84989': 11.644847869873047, 'nauplii_Crustacea__85116': 32.97245788574219, 'larvae_Crustacea__85114': 1.4346723556518555, 'part_Cnidaria__84970': 17.069294929504395, 'Rhincalanidae__61977': 4.8950347900390625, 'Oithonidae__62005': 353.0365047454834, 'Obelia__72344': 11.794878005981445, 'egg_other__85078': 7.068790435791016, 'Foraminifera__11758': 1.0463447570800781, 'Euchaetidae__61986': 242.81782913208008, 'Branchiostoma__25925': 3.097750663757324, 'badfocus_Copepoda__92042': 42.343411445617676, 'Cephalopoda__12906': 0.0647125244140625, 'eudoxie_Diphyidae__84977': 0.6808338165283203, 'Neoceratium__18758': 16.070223808288574, 'ephyra_Scyphozoa__85188': 0.4753284454345703, 'Salpida__25942': 89.65563011169434, 'tail_Appendicularia__85004': 52.66224193572998, 'part_Thaliacea__92235': 3.772822380065918, 'Oncaeidae__78418': 103.4581127166748, 'siphonula__85127': 0.3703880310058594, 'tornaria larvae__92754': 0.6565656661987305, 'Heterorhabdidae__61985': 3.4552078247070312, 'badfocus_artefact__85061': 141.01811122894287, 'phyllosoma__84988': 0.3328971862792969, 'artefact__85008': 284.29162311553955, 'Thecosomata__91704': 2.896611213684082, 'Atlanta__92139': 0.12303924560546875, 'part_Annelida__84966': 0.5308246612548828, 'larvae_Annelida__84965': 3.194817543029785, 'Calocalanus__80164': 4.329187393188477, 'bubble__85060': 3.199522018432617, 'larvae_Mysida__92712': 0.3555889129638672, 'larvae_Echinodermata__92801': 14.097040176391602, 'egg sac_egg__92843': 2.419924736022949, 'nauplii_Cirripedia__84997': 17.409168243408203, 'Nemertea__11493': 0.10879802703857422, 'Liriope tetraphylla__81862': 13.237330436706543, 'Doliolida__25944': 3.870455741882324, 'Cumacea__45052': 4.095844268798828, 'calyptopsis_Euphausiacea__84993': 19.202312469482422, 'actinula_Hydrozoa__85190': 0.2312479019165039, 'Lubbockia__93061': 0.0029878616333007812, 'protozoea_Mysida__84995': 6.748441696166992, 'gonophore_Diphyidae__85185': 9.546435356140137, 'zoea_Decapoda__84986': 23.118812561035156, 'detritus__84963': 1143.0043783187866, 'protozoea_Sergestidae__84994': 0.40324974060058594, 'Cnidaria_Metazoa__11512': 163.5057020187378, 'Metridinidae__61982': 217.34112453460693, 'Peltidiidae__93861': 0.5133342742919922, 'Microsetella__92324': 6.4718170166015625, 'other_living__85011': 21.88595676422119, 'Temoridae__61973': 166.91606044769287, 'cypris__84998': 6.98934268951416, 'scale__85118': 3.589702606201172, 'Acartiidae__61996': 319.5559129714966, 'Fritillariidae__25930': 24.447890281677246, 'Corycaeidae__78426': 18.963435173034668, 'cyphonaute__84967': 6.049319267272949, 'Bivalvia_Mollusca__12908': 9.566080093383789, 'nectophore_Diphyidae__84976': 295.1705379486084, 'Ctenophora_Metazoa__11511': 1.5739364624023438, 'Eucalanidae__61987': 17.984889030456543, 'Pleuromamma__80154': 16.02328586578369, 'Sapphirinidae__78412': 0.5608701705932617, 'multiple_Copepoda__85044': 8.950560569763184, 'Isopoda__45051': 2.260056495666504, 'Noctiluca_Noctilucaceae__58408': 71.75223922729492, 'larvae_Porcellanidae__92238': 91.27816677093506, 'pilidium_Nemertea__92113': 0.044808387756347656, 'Harpacticoida__45071': 5.9618024826049805, 'Aglaura__72431': 13.938949584960938, 'multiple_other__85079': 200.7535753250122, 'trunk_Appendicularia__92112': 4.312230110168457, 'Chaetognatha__11514': 220.23386096954346, 'egg unkn temp_Engraulidae temp__85345': 1.2906951904296875, 'Calanoida__45074': 671.5098791122437, 'Ostracoda__30815': 3.84798526763916, 'Actiniaria__25951': 0.16493701934814453, 'Tomopteridae__25631': 34.0857572555542, 'Candaciidae__61991': 55.51919078826904, 'Actinopterygii__56693': 59.3279447555542, 'Phoronida__11491': 0.9881439208984375, 'Solmundella bitentaculata__81856': 3.6751832962036133, 'Cymbulia peroni__92132': 0.041640281677246094, 'Diatoma__28189': 2.7081499099731445, 'bract_Diphyidae__92230': 2.043600082397461, 'tail_Chaetognatha__84968': 4.114141464233398, 'Insecta__16627': 0.15076828002929688, 'Amphipoda__45054': 21.847655296325684, 'Centropagidae__61990': 139.92700481414795, 'Eumalacostraca__25824': 330.83136081695557, 'protozoea_Penaeidae__84987': 0.8379364013671875, 'part_Siphonophorae__92039': 100.61063957214355, 'Harosa__5': 1.133061408996582, 'Annelida__11518': 27.260698318481445, 'Appendicularia__85123': 178.98843383789062, 'Euterpina__62036': 9.15678596496582, 'Cladocera__45036': 67.11498546600342, 'Limacinidae__26524': 18.927212715148926, 'larvae_Squillidae__84996': 0.1564340591430664, 'Haloptilus__80121': 0.04900932312011719, 'Cavoliniidae__26480': 0.5416717529296875, 'Monstrilloida__45069': 0.011627197265625, 'Echinodermata__11509': 1.1458768844604492, 'nectophore_Physonectae__84980': 28.495691299438477, 'pluteus_Ophiuroidea__84999': 2.1598548889160156, 'like_Laomediidae__84992': 0.9524507522583008, 'Creseidae__26525': 0.03466320037841797, 'megalopa__84991': 13.566658973693848, 'Pontellidae__61980': 6.397007942199707, 'Calanidae__61993': 1552.0326328277588, 'fiber_detritus__85076': 117.64733219146729, 'Decapoda__45043': 12.848260879516602, 'Euphausiacea__45041': 32.10419178009033, 'egg_Actinopterygii__85117': 30.766072273254395, 'Euchirella__80117': 6.462841987609863, 'part_Crustacea__85115': 48.77907752990723, 'Mysida__45048': 40.10981750488281}\n"
          ]
        }
      ]
    },
    {
      "cell_type": "markdown",
      "metadata": {
        "id": "37ed05d8"
      },
      "source": [
        "## Create and sort dataframe\n",
        "\n",
        "### Subtask:\n",
        "Create a pandas DataFrame with the class names, image counts, and sizes, then sort it by image count in ascending order.\n"
      ]
    },
    {
      "cell_type": "markdown",
      "metadata": {
        "id": "15831e4b"
      },
      "source": [
        "**Reasoning**:\n",
        "Create a pandas DataFrame from the image counts and sizes dictionaries and sort it by image count.\n",
        "\n"
      ]
    },
    {
      "cell_type": "code",
      "metadata": {
        "id": "754da447"
      },
      "source": [
        "import pandas as pd\n",
        "\n",
        "df_image_analysis = pd.DataFrame.from_dict(image_counts, orient='index', columns=['Image Count'])\n",
        "df_image_analysis['Size (MB)'] = pd.Series(dir_sizes)\n",
        "df_image_analysis = df_image_analysis.reset_index().rename(columns={'index': 'Class'})\n",
        "df_image_analysis = df_image_analysis.sort_values(by='Image Count', ascending=True)"
      ],
      "execution_count": 12,
      "outputs": []
    },
    {
      "cell_type": "markdown",
      "metadata": {
        "id": "af9cd330"
      },
      "source": [
        "## Save to csv\n",
        "\n",
        "### Subtask:\n",
        "Save the DataFrame to a CSV file.\n"
      ]
    },
    {
      "cell_type": "markdown",
      "metadata": {
        "id": "1b53486f"
      },
      "source": [
        "**Reasoning**:\n",
        "Save the dataframe to a CSV file without including the index.\n",
        "\n"
      ]
    },
    {
      "cell_type": "code",
      "metadata": {
        "id": "cfb3a705"
      },
      "source": [
        "df_image_analysis.to_csv(\"image_analysis.csv\", index=False)"
      ],
      "execution_count": 13,
      "outputs": []
    },
    {
      "cell_type": "markdown",
      "metadata": {
        "id": "d76e95fd"
      },
      "source": [
        "## Display dataframe\n",
        "\n",
        "### Subtask:\n",
        "Display the sorted DataFrame.\n"
      ]
    },
    {
      "cell_type": "markdown",
      "metadata": {
        "id": "b8d6aabc"
      },
      "source": [
        "**Reasoning**:\n",
        "Display the sorted DataFrame as requested by the subtask.\n",
        "\n"
      ]
    },
    {
      "cell_type": "code",
      "metadata": {
        "colab": {
          "base_uri": "https://localhost:8080/",
          "height": 724
        },
        "id": "b92d1172",
        "outputId": "be26bb6b-dc83-4f23-f2ae-69fbec824f48"
      },
      "source": [
        "display(df_image_analysis)"
      ],
      "execution_count": 14,
      "outputs": [
        {
          "output_type": "display_data",
          "data": {
            "text/plain": [
              "                      Class  Image Count    Size (MB)\n",
              "49         Lubbockia__93061            1     0.002988\n",
              "111    Monstrilloida__45069            1     0.011627\n",
              "0    Nannosquillidae__45061            2     0.031023\n",
              "19       Cephalopoda__12906            3     0.064713\n",
              "92   Cymbulia peroni__92132            3     0.041640\n",
              "..                      ...          ...          ...\n",
              "63        Acartiidae__61996        66353   319.555913\n",
              "119        Calanidae__61993        91513  1552.032633\n",
              "12        Oithonidae__62005       110510   353.036505\n",
              "84         Calanoida__45074       149956   671.509879\n",
              "53          detritus__84963       219541  1143.004378\n",
              "\n",
              "[127 rows x 3 columns]"
            ],
            "text/html": [
              "\n",
              "  <div id=\"df-a96ce3ec-743d-4ddb-8583-7d7da4ea15f8\" class=\"colab-df-container\">\n",
              "    <div>\n",
              "<style scoped>\n",
              "    .dataframe tbody tr th:only-of-type {\n",
              "        vertical-align: middle;\n",
              "    }\n",
              "\n",
              "    .dataframe tbody tr th {\n",
              "        vertical-align: top;\n",
              "    }\n",
              "\n",
              "    .dataframe thead th {\n",
              "        text-align: right;\n",
              "    }\n",
              "</style>\n",
              "<table border=\"1\" class=\"dataframe\">\n",
              "  <thead>\n",
              "    <tr style=\"text-align: right;\">\n",
              "      <th></th>\n",
              "      <th>Class</th>\n",
              "      <th>Image Count</th>\n",
              "      <th>Size (MB)</th>\n",
              "    </tr>\n",
              "  </thead>\n",
              "  <tbody>\n",
              "    <tr>\n",
              "      <th>49</th>\n",
              "      <td>Lubbockia__93061</td>\n",
              "      <td>1</td>\n",
              "      <td>0.002988</td>\n",
              "    </tr>\n",
              "    <tr>\n",
              "      <th>111</th>\n",
              "      <td>Monstrilloida__45069</td>\n",
              "      <td>1</td>\n",
              "      <td>0.011627</td>\n",
              "    </tr>\n",
              "    <tr>\n",
              "      <th>0</th>\n",
              "      <td>Nannosquillidae__45061</td>\n",
              "      <td>2</td>\n",
              "      <td>0.031023</td>\n",
              "    </tr>\n",
              "    <tr>\n",
              "      <th>19</th>\n",
              "      <td>Cephalopoda__12906</td>\n",
              "      <td>3</td>\n",
              "      <td>0.064713</td>\n",
              "    </tr>\n",
              "    <tr>\n",
              "      <th>92</th>\n",
              "      <td>Cymbulia peroni__92132</td>\n",
              "      <td>3</td>\n",
              "      <td>0.041640</td>\n",
              "    </tr>\n",
              "    <tr>\n",
              "      <th>...</th>\n",
              "      <td>...</td>\n",
              "      <td>...</td>\n",
              "      <td>...</td>\n",
              "    </tr>\n",
              "    <tr>\n",
              "      <th>63</th>\n",
              "      <td>Acartiidae__61996</td>\n",
              "      <td>66353</td>\n",
              "      <td>319.555913</td>\n",
              "    </tr>\n",
              "    <tr>\n",
              "      <th>119</th>\n",
              "      <td>Calanidae__61993</td>\n",
              "      <td>91513</td>\n",
              "      <td>1552.032633</td>\n",
              "    </tr>\n",
              "    <tr>\n",
              "      <th>12</th>\n",
              "      <td>Oithonidae__62005</td>\n",
              "      <td>110510</td>\n",
              "      <td>353.036505</td>\n",
              "    </tr>\n",
              "    <tr>\n",
              "      <th>84</th>\n",
              "      <td>Calanoida__45074</td>\n",
              "      <td>149956</td>\n",
              "      <td>671.509879</td>\n",
              "    </tr>\n",
              "    <tr>\n",
              "      <th>53</th>\n",
              "      <td>detritus__84963</td>\n",
              "      <td>219541</td>\n",
              "      <td>1143.004378</td>\n",
              "    </tr>\n",
              "  </tbody>\n",
              "</table>\n",
              "<p>127 rows × 3 columns</p>\n",
              "</div>\n",
              "    <div class=\"colab-df-buttons\">\n",
              "\n",
              "  <div class=\"colab-df-container\">\n",
              "    <button class=\"colab-df-convert\" onclick=\"convertToInteractive('df-a96ce3ec-743d-4ddb-8583-7d7da4ea15f8')\"\n",
              "            title=\"Convert this dataframe to an interactive table.\"\n",
              "            style=\"display:none;\">\n",
              "\n",
              "  <svg xmlns=\"http://www.w3.org/2000/svg\" height=\"24px\" viewBox=\"0 -960 960 960\">\n",
              "    <path d=\"M120-120v-720h720v720H120Zm60-500h600v-160H180v160Zm220 220h160v-160H400v160Zm0 220h160v-160H400v160ZM180-400h160v-160H180v160Zm440 0h160v-160H620v160ZM180-180h160v-160H180v160Zm440 0h160v-160H620v160Z\"/>\n",
              "  </svg>\n",
              "    </button>\n",
              "\n",
              "  <style>\n",
              "    .colab-df-container {\n",
              "      display:flex;\n",
              "      gap: 12px;\n",
              "    }\n",
              "\n",
              "    .colab-df-convert {\n",
              "      background-color: #E8F0FE;\n",
              "      border: none;\n",
              "      border-radius: 50%;\n",
              "      cursor: pointer;\n",
              "      display: none;\n",
              "      fill: #1967D2;\n",
              "      height: 32px;\n",
              "      padding: 0 0 0 0;\n",
              "      width: 32px;\n",
              "    }\n",
              "\n",
              "    .colab-df-convert:hover {\n",
              "      background-color: #E2EBFA;\n",
              "      box-shadow: 0px 1px 2px rgba(60, 64, 67, 0.3), 0px 1px 3px 1px rgba(60, 64, 67, 0.15);\n",
              "      fill: #174EA6;\n",
              "    }\n",
              "\n",
              "    .colab-df-buttons div {\n",
              "      margin-bottom: 4px;\n",
              "    }\n",
              "\n",
              "    [theme=dark] .colab-df-convert {\n",
              "      background-color: #3B4455;\n",
              "      fill: #D2E3FC;\n",
              "    }\n",
              "\n",
              "    [theme=dark] .colab-df-convert:hover {\n",
              "      background-color: #434B5C;\n",
              "      box-shadow: 0px 1px 3px 1px rgba(0, 0, 0, 0.15);\n",
              "      filter: drop-shadow(0px 1px 2px rgba(0, 0, 0, 0.3));\n",
              "      fill: #FFFFFF;\n",
              "    }\n",
              "  </style>\n",
              "\n",
              "    <script>\n",
              "      const buttonEl =\n",
              "        document.querySelector('#df-a96ce3ec-743d-4ddb-8583-7d7da4ea15f8 button.colab-df-convert');\n",
              "      buttonEl.style.display =\n",
              "        google.colab.kernel.accessAllowed ? 'block' : 'none';\n",
              "\n",
              "      async function convertToInteractive(key) {\n",
              "        const element = document.querySelector('#df-a96ce3ec-743d-4ddb-8583-7d7da4ea15f8');\n",
              "        const dataTable =\n",
              "          await google.colab.kernel.invokeFunction('convertToInteractive',\n",
              "                                                    [key], {});\n",
              "        if (!dataTable) return;\n",
              "\n",
              "        const docLinkHtml = 'Like what you see? Visit the ' +\n",
              "          '<a target=\"_blank\" href=https://colab.research.google.com/notebooks/data_table.ipynb>data table notebook</a>'\n",
              "          + ' to learn more about interactive tables.';\n",
              "        element.innerHTML = '';\n",
              "        dataTable['output_type'] = 'display_data';\n",
              "        await google.colab.output.renderOutput(dataTable, element);\n",
              "        const docLink = document.createElement('div');\n",
              "        docLink.innerHTML = docLinkHtml;\n",
              "        element.appendChild(docLink);\n",
              "      }\n",
              "    </script>\n",
              "  </div>\n",
              "\n",
              "\n",
              "    <div id=\"df-3ed3cf99-fcdc-4d3f-842d-1a7173500941\">\n",
              "      <button class=\"colab-df-quickchart\" onclick=\"quickchart('df-3ed3cf99-fcdc-4d3f-842d-1a7173500941')\"\n",
              "                title=\"Suggest charts\"\n",
              "                style=\"display:none;\">\n",
              "\n",
              "<svg xmlns=\"http://www.w3.org/2000/svg\" height=\"24px\"viewBox=\"0 0 24 24\"\n",
              "     width=\"24px\">\n",
              "    <g>\n",
              "        <path d=\"M19 3H5c-1.1 0-2 .9-2 2v14c0 1.1.9 2 2 2h14c1.1 0 2-.9 2-2V5c0-1.1-.9-2-2-2zM9 17H7v-7h2v7zm4 0h-2V7h2v10zm4 0h-2v-4h2v4z\"/>\n",
              "    </g>\n",
              "</svg>\n",
              "      </button>\n",
              "\n",
              "<style>\n",
              "  .colab-df-quickchart {\n",
              "      --bg-color: #E8F0FE;\n",
              "      --fill-color: #1967D2;\n",
              "      --hover-bg-color: #E2EBFA;\n",
              "      --hover-fill-color: #174EA6;\n",
              "      --disabled-fill-color: #AAA;\n",
              "      --disabled-bg-color: #DDD;\n",
              "  }\n",
              "\n",
              "  [theme=dark] .colab-df-quickchart {\n",
              "      --bg-color: #3B4455;\n",
              "      --fill-color: #D2E3FC;\n",
              "      --hover-bg-color: #434B5C;\n",
              "      --hover-fill-color: #FFFFFF;\n",
              "      --disabled-bg-color: #3B4455;\n",
              "      --disabled-fill-color: #666;\n",
              "  }\n",
              "\n",
              "  .colab-df-quickchart {\n",
              "    background-color: var(--bg-color);\n",
              "    border: none;\n",
              "    border-radius: 50%;\n",
              "    cursor: pointer;\n",
              "    display: none;\n",
              "    fill: var(--fill-color);\n",
              "    height: 32px;\n",
              "    padding: 0;\n",
              "    width: 32px;\n",
              "  }\n",
              "\n",
              "  .colab-df-quickchart:hover {\n",
              "    background-color: var(--hover-bg-color);\n",
              "    box-shadow: 0 1px 2px rgba(60, 64, 67, 0.3), 0 1px 3px 1px rgba(60, 64, 67, 0.15);\n",
              "    fill: var(--button-hover-fill-color);\n",
              "  }\n",
              "\n",
              "  .colab-df-quickchart-complete:disabled,\n",
              "  .colab-df-quickchart-complete:disabled:hover {\n",
              "    background-color: var(--disabled-bg-color);\n",
              "    fill: var(--disabled-fill-color);\n",
              "    box-shadow: none;\n",
              "  }\n",
              "\n",
              "  .colab-df-spinner {\n",
              "    border: 2px solid var(--fill-color);\n",
              "    border-color: transparent;\n",
              "    border-bottom-color: var(--fill-color);\n",
              "    animation:\n",
              "      spin 1s steps(1) infinite;\n",
              "  }\n",
              "\n",
              "  @keyframes spin {\n",
              "    0% {\n",
              "      border-color: transparent;\n",
              "      border-bottom-color: var(--fill-color);\n",
              "      border-left-color: var(--fill-color);\n",
              "    }\n",
              "    20% {\n",
              "      border-color: transparent;\n",
              "      border-left-color: var(--fill-color);\n",
              "      border-top-color: var(--fill-color);\n",
              "    }\n",
              "    30% {\n",
              "      border-color: transparent;\n",
              "      border-left-color: var(--fill-color);\n",
              "      border-top-color: var(--fill-color);\n",
              "      border-right-color: var(--fill-color);\n",
              "    }\n",
              "    40% {\n",
              "      border-color: transparent;\n",
              "      border-right-color: var(--fill-color);\n",
              "      border-top-color: var(--fill-color);\n",
              "    }\n",
              "    60% {\n",
              "      border-color: transparent;\n",
              "      border-right-color: var(--fill-color);\n",
              "    }\n",
              "    80% {\n",
              "      border-color: transparent;\n",
              "      border-right-color: var(--fill-color);\n",
              "      border-bottom-color: var(--fill-color);\n",
              "    }\n",
              "    90% {\n",
              "      border-color: transparent;\n",
              "      border-bottom-color: var(--fill-color);\n",
              "    }\n",
              "  }\n",
              "</style>\n",
              "\n",
              "      <script>\n",
              "        async function quickchart(key) {\n",
              "          const quickchartButtonEl =\n",
              "            document.querySelector('#' + key + ' button');\n",
              "          quickchartButtonEl.disabled = true;  // To prevent multiple clicks.\n",
              "          quickchartButtonEl.classList.add('colab-df-spinner');\n",
              "          try {\n",
              "            const charts = await google.colab.kernel.invokeFunction(\n",
              "                'suggestCharts', [key], {});\n",
              "          } catch (error) {\n",
              "            console.error('Error during call to suggestCharts:', error);\n",
              "          }\n",
              "          quickchartButtonEl.classList.remove('colab-df-spinner');\n",
              "          quickchartButtonEl.classList.add('colab-df-quickchart-complete');\n",
              "        }\n",
              "        (() => {\n",
              "          let quickchartButtonEl =\n",
              "            document.querySelector('#df-3ed3cf99-fcdc-4d3f-842d-1a7173500941 button');\n",
              "          quickchartButtonEl.style.display =\n",
              "            google.colab.kernel.accessAllowed ? 'block' : 'none';\n",
              "        })();\n",
              "      </script>\n",
              "    </div>\n",
              "\n",
              "  <div id=\"id_5792424b-adb0-4747-ae4f-3d183ede8d55\">\n",
              "    <style>\n",
              "      .colab-df-generate {\n",
              "        background-color: #E8F0FE;\n",
              "        border: none;\n",
              "        border-radius: 50%;\n",
              "        cursor: pointer;\n",
              "        display: none;\n",
              "        fill: #1967D2;\n",
              "        height: 32px;\n",
              "        padding: 0 0 0 0;\n",
              "        width: 32px;\n",
              "      }\n",
              "\n",
              "      .colab-df-generate:hover {\n",
              "        background-color: #E2EBFA;\n",
              "        box-shadow: 0px 1px 2px rgba(60, 64, 67, 0.3), 0px 1px 3px 1px rgba(60, 64, 67, 0.15);\n",
              "        fill: #174EA6;\n",
              "      }\n",
              "\n",
              "      [theme=dark] .colab-df-generate {\n",
              "        background-color: #3B4455;\n",
              "        fill: #D2E3FC;\n",
              "      }\n",
              "\n",
              "      [theme=dark] .colab-df-generate:hover {\n",
              "        background-color: #434B5C;\n",
              "        box-shadow: 0px 1px 3px 1px rgba(0, 0, 0, 0.15);\n",
              "        filter: drop-shadow(0px 1px 2px rgba(0, 0, 0, 0.3));\n",
              "        fill: #FFFFFF;\n",
              "      }\n",
              "    </style>\n",
              "    <button class=\"colab-df-generate\" onclick=\"generateWithVariable('df_image_analysis')\"\n",
              "            title=\"Generate code using this dataframe.\"\n",
              "            style=\"display:none;\">\n",
              "\n",
              "  <svg xmlns=\"http://www.w3.org/2000/svg\" height=\"24px\"viewBox=\"0 0 24 24\"\n",
              "       width=\"24px\">\n",
              "    <path d=\"M7,19H8.4L18.45,9,17,7.55,7,17.6ZM5,21V16.75L18.45,3.32a2,2,0,0,1,2.83,0l1.4,1.43a1.91,1.91,0,0,1,.58,1.4,1.91,1.91,0,0,1-.58,1.4L9.25,21ZM18.45,9,17,7.55Zm-12,3A5.31,5.31,0,0,0,4.9,8.1,5.31,5.31,0,0,0,1,6.5,5.31,5.31,0,0,0,4.9,4.9,5.31,5.31,0,0,0,6.5,1,5.31,5.31,0,0,0,8.1,4.9,5.31,5.31,0,0,0,12,6.5,5.46,5.46,0,0,0,6.5,12Z\"/>\n",
              "  </svg>\n",
              "    </button>\n",
              "    <script>\n",
              "      (() => {\n",
              "      const buttonEl =\n",
              "        document.querySelector('#id_5792424b-adb0-4747-ae4f-3d183ede8d55 button.colab-df-generate');\n",
              "      buttonEl.style.display =\n",
              "        google.colab.kernel.accessAllowed ? 'block' : 'none';\n",
              "\n",
              "      buttonEl.onclick = () => {\n",
              "        google.colab.notebook.generateWithVariable('df_image_analysis');\n",
              "      }\n",
              "      })();\n",
              "    </script>\n",
              "  </div>\n",
              "\n",
              "    </div>\n",
              "  </div>\n"
            ],
            "application/vnd.google.colaboratory.intrinsic+json": {
              "type": "dataframe",
              "variable_name": "df_image_analysis",
              "summary": "{\n  \"name\": \"df_image_analysis\",\n  \"rows\": 127,\n  \"fields\": [\n    {\n      \"column\": \"Class\",\n      \"properties\": {\n        \"dtype\": \"string\",\n        \"num_unique_values\": 127,\n        \"samples\": [\n          \"ephyra_Scyphozoa__85188\",\n          \"Centropagidae__61990\",\n          \"Harpacticoida__45071\"\n        ],\n        \"semantic_type\": \"\",\n        \"description\": \"\"\n      }\n    },\n    {\n      \"column\": \"Image Count\",\n      \"properties\": {\n        \"dtype\": \"number\",\n        \"std\": 27760,\n        \"min\": 1,\n        \"max\": 219541,\n        \"num_unique_values\": 119,\n        \"samples\": [\n          696,\n          4974,\n          5\n        ],\n        \"semantic_type\": \"\",\n        \"description\": \"\"\n      }\n    },\n    {\n      \"column\": \"Size (MB)\",\n      \"properties\": {\n        \"dtype\": \"number\",\n        \"std\": 189.80627838997944,\n        \"min\": 0.0029878616333007812,\n        \"max\": 1552.0326328277588,\n        \"num_unique_values\": 127,\n        \"samples\": [\n          0.4753284454345703,\n          139.92700481414795,\n          5.9618024826049805\n        ],\n        \"semantic_type\": \"\",\n        \"description\": \"\"\n      }\n    }\n  ]\n}"
            }
          },
          "metadata": {}
        }
      ]
    },
    {
      "cell_type": "markdown",
      "metadata": {
        "id": "4e997638"
      },
      "source": [
        "## Summary:\n",
        "\n",
        "### Data Analysis Key Findings\n",
        "\n",
        "*   The analysis successfully identified all subdirectories within the specified path and counted the number of image files in each.\n",
        "*   The size of each subdirectory was calculated in MB.\n",
        "*   A pandas DataFrame was created containing the class names, image counts, and sizes, which was then sorted by image count in ascending order.\n",
        "*   The resulting DataFrame was successfully saved to a CSV file named \"image\\_analysis.csv\".\n",
        "\n",
        "### Insights or Next Steps\n",
        "\n",
        "*   The sorted DataFrame allows for easy identification of classes with the fewest and most images, which could be useful for balancing datasets in machine learning tasks.\n",
        "*   Further analysis could involve calculating the average image size per class or visualizing the distribution of image counts and sizes.\n"
      ]
    }
  ]
}