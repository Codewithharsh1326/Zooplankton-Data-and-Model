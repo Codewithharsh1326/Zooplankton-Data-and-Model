{
 "cells": [
  {
   "cell_type": "code",
   "execution_count": 2,
   "metadata": {},
   "outputs": [
    {
     "data": {
      "application/vnd.jupyter.widget-view+json": {
       "model_id": "49fd670406244637b866899b693f3b70",
       "version_major": 2,
       "version_minor": 0
      },
      "text/plain": [
       "VBox(children=(HTML(value='<center> <img\\nsrc=https://www.kaggle.com/static/images/site-logo.png\\nalt=\\'Kaggle…"
      ]
     },
     "metadata": {},
     "output_type": "display_data"
    },
    {
     "name": "stdout",
     "output_type": "stream",
     "text": [
      "Kaggle credentials set.\n",
      "Kaggle credentials successfully validated.\n"
     ]
    }
   ],
   "source": [
    "import kagglehub\n",
    "kagglehub.login()"
   ]
  },
  {
   "cell_type": "code",
   "execution_count": 3,
   "metadata": {},
   "outputs": [
    {
     "name": "stdout",
     "output_type": "stream",
     "text": [
      "Downloading from https://www.kaggle.com/api/v1/datasets/download/harshpatel1326/zooplankton-model-train-data?dataset_version_number=1...\n"
     ]
    },
    {
     "name": "stderr",
     "output_type": "stream",
     "text": [
      "100%|██████████| 777M/777M [00:38<00:00, 21.4MB/s]"
     ]
    },
    {
     "name": "stdout",
     "output_type": "stream",
     "text": [
      "Extracting files...\n"
     ]
    },
    {
     "name": "stderr",
     "output_type": "stream",
     "text": [
      "\n"
     ]
    },
    {
     "name": "stdout",
     "output_type": "stream",
     "text": [
      "Path to dataset files: /root/.cache/kagglehub/datasets/harshpatel1326/zooplankton-model-train-data/versions/1\n",
      "Files moved to /content/\n"
     ]
    }
   ],
   "source": [
    "import kagglehub\n",
    "import os\n",
    "import shutil\n",
    "\n",
    "# Download latest version to the default cache location\n",
    "path = kagglehub.dataset_download(\"harshpatel1326/zooplankton-model-train-data\")\n",
    "\n",
    "print(\"Path to dataset files:\", path)\n",
    "\n",
    "# Define the destination directory\n",
    "destination_dir = \"/content/\"\n",
    "\n",
    "# Create the destination directory if it doesn't exist\n",
    "os.makedirs(destination_dir, exist_ok=True)\n",
    "\n",
    "# Move all files and directories from the cache to the destination\n",
    "for item in os.listdir(path):\n",
    "    s = os.path.join(path, item)\n",
    "    d = os.path.join(destination_dir, item)\n",
    "    if os.path.isdir(s):\n",
    "        shutil.move(s, d)\n",
    "    else:\n",
    "        shutil.move(s, d)\n",
    "\n",
    "print(f\"Files moved to {destination_dir}\")"
   ]
  },
  {
   "cell_type": "code",
   "execution_count": 4,
   "metadata": {},
   "outputs": [
    {
     "name": "stdout",
     "output_type": "stream",
     "text": [
      "Copied 15 random images from each class to '/content/mixed_images'\n"
     ]
    }
   ],
   "source": [
    "import os\n",
    "import random\n",
    "import shutil\n",
    "\n",
    "# Define the source directory (training dataset)\n",
    "train_data_dir = \"/content/train\"\n",
    "\n",
    "# Define the destination directory for mixed images\n",
    "mixed_folder = \"/content/mixed_images\"\n",
    "\n",
    "# Create the mixed folder if it doesn't exist\n",
    "os.makedirs(mixed_folder, exist_ok=True)\n",
    "\n",
    "# Get the list of class names (subfolders in train_data_dir)\n",
    "class_names = [d for d in os.listdir(train_data_dir) if os.path.isdir(os.path.join(train_data_dir, d))]\n",
    "\n",
    "# Number of images to copy from each class\n",
    "num_images_per_class = 15\n",
    "\n",
    "# Copy random images from each class folder\n",
    "for class_name in class_names:\n",
    "    class_folder = os.path.join(train_data_dir, class_name)\n",
    "    images = [f for f in os.listdir(class_folder) if f.lower().endswith((\".png\", \".jpg\", \".jpeg\"))] # Filter for image files\n",
    "\n",
    "    # Ensure there are enough images in the class folder\n",
    "    if len(images) < num_images_per_class:\n",
    "        print(f\"Warning: Not enough images ({len(images)}) in {class_name} to copy {num_images_per_class}. Copying all available images.\")\n",
    "        selected_images = images\n",
    "    else:\n",
    "        selected_images = random.sample(images, num_images_per_class)\n",
    "\n",
    "    # Copy selected images to the mixed folder\n",
    "    for img_file in selected_images:\n",
    "        src_path = os.path.join(class_folder, img_file)\n",
    "        dest_path = os.path.join(mixed_folder, img_file)\n",
    "        shutil.copy(src_path, dest_path)\n",
    "        # Optionally, you can rename the copied file to include the class name if needed\n",
    "        # shutil.copy(src_path, os.path.join(mixed_folder, f\"{class_name}_{img_file}\"))\n",
    "\n",
    "print(f\"Copied {num_images_per_class} random images from each class to '{mixed_folder}'\")"
   ]
  },
  {
   "cell_type": "code",
   "execution_count": 17,
   "metadata": {},
   "outputs": [
    {
     "name": "stdout",
     "output_type": "stream",
     "text": [
      "No ground-truth labels found. Images sorted by predicted class.\n"
     ]
    }
   ],
   "source": [
    "import os\n",
    "import shutil\n",
    "import torch\n",
    "from torchvision import models, transforms\n",
    "from PIL import Image\n",
    "from torch.utils.data import DataLoader, Dataset\n",
    "from torchvision.datasets import ImageFolder\n",
    "\n",
    "# ----------------------------\n",
    "# Configuration\n",
    "# ----------------------------\n",
    "input_folder = \"/content/mixed_images\"        # Folder with unlabeled/mixed images\n",
    "output_folder = \"/content/sorted_output\"      # Where sorted images will be copied\n",
    "model_path = \"/content/resnet50_model.pth\"    # Your trained model file\n",
    "#device = torch.device(\"cuda\" if torch.cuda.is_available() else \"cpu\")\n",
    "\n",
    "# Must match training normalization\n",
    "transform = transforms.Compose([\n",
    "    transforms.Resize(256),\n",
    "    transforms.CenterCrop(224),\n",
    "    transforms.ToTensor(),\n",
    "    transforms.Normalize([0.485, 0.456, 0.406],\n",
    "                         [0.229, 0.224, 0.225])\n",
    "])\n",
    "\n",
    "# ----------------------------\n",
    "# Load Model\n",
    "# ----------------------------\n",
    "model = torch.load(model_path, map_location=device, weights_only=False)\n",
    "model.eval()\n",
    "\n",
    "# Get class names (from training ImageFolder)\n",
    "# Adjust path to your training dataset folder\n",
    "train_data_dir = \"/content/train\"\n",
    "class_names = sorted(os.listdir(train_data_dir))  # list of class folders\n",
    "\n",
    "# ----------------------------\n",
    "# Helper: Predict class of an image\n",
    "# ----------------------------\n",
    "def predict_image(image_path):\n",
    "    image = Image.open(image_path).convert(\"RGB\")\n",
    "    img_tensor = transform(image).unsqueeze(0).to(device)\n",
    "    with torch.no_grad():\n",
    "        outputs = model(img_tensor)\n",
    "        _, pred = torch.max(outputs, 1)\n",
    "    return class_names[pred.item()]\n",
    "\n",
    "# ----------------------------\n",
    "# Process all images\n",
    "# ----------------------------\n",
    "if not os.path.exists(output_folder):\n",
    "    os.makedirs(output_folder)\n",
    "\n",
    "correct, total = 0, 0\n",
    "for root, _, files in os.walk(input_folder):\n",
    "    for img_file in files:\n",
    "        if not img_file.lower().endswith((\".png\", \".jpg\", \".jpeg\")):\n",
    "            continue\n",
    "\n",
    "        img_path = os.path.join(root, img_file)\n",
    "        pred_class = predict_image(img_path)\n",
    "\n",
    "        # Copy image to respective class folder\n",
    "        dest_dir = os.path.join(output_folder, pred_class)\n",
    "        os.makedirs(dest_dir, exist_ok=True)\n",
    "        shutil.copy(img_path, dest_dir)\n",
    "\n",
    "        # Ground truth = parent folder name\n",
    "        gt_class = os.path.basename(root)\n",
    "        if gt_class in class_names:\n",
    "            total += 1\n",
    "            if pred_class == gt_class:\n",
    "                correct += 1\n",
    "\n",
    "\n",
    "# Print accuracy if labels available\n",
    "if total > 0:\n",
    "    print(f\"Accuracy: {100 * correct / total:.2f}%\")\n",
    "else:\n",
    "    print(\"No ground-truth labels found. Images sorted by predicted class.\")\n"
   ]
  },
  {
   "cell_type": "code",
   "execution_count": 15,
   "metadata": {},
   "outputs": [
    {
     "data": {
      "application/javascript": [
       "\n",
       "    async function download(id, filename, size) {\n",
       "      if (!google.colab.kernel.accessAllowed) {\n",
       "        return;\n",
       "      }\n",
       "      const div = document.createElement('div');\n",
       "      const label = document.createElement('label');\n",
       "      label.textContent = `Downloading \"${filename}\": `;\n",
       "      div.appendChild(label);\n",
       "      const progress = document.createElement('progress');\n",
       "      progress.max = size;\n",
       "      div.appendChild(progress);\n",
       "      document.body.appendChild(div);\n",
       "\n",
       "      const buffers = [];\n",
       "      let downloaded = 0;\n",
       "\n",
       "      const channel = await google.colab.kernel.comms.open(id);\n",
       "      // Send a message to notify the kernel that we're ready.\n",
       "      channel.send({})\n",
       "\n",
       "      for await (const message of channel.messages) {\n",
       "        // Send a message to notify the kernel that we're ready.\n",
       "        channel.send({})\n",
       "        if (message.buffers) {\n",
       "          for (const buffer of message.buffers) {\n",
       "            buffers.push(buffer);\n",
       "            downloaded += buffer.byteLength;\n",
       "            progress.value = downloaded;\n",
       "          }\n",
       "        }\n",
       "      }\n",
       "      const blob = new Blob(buffers, {type: 'application/binary'});\n",
       "      const a = document.createElement('a');\n",
       "      a.href = window.URL.createObjectURL(blob);\n",
       "      a.download = filename;\n",
       "      div.appendChild(a);\n",
       "      a.click();\n",
       "      div.remove();\n",
       "    }\n",
       "  "
      ],
      "text/plain": [
       "<IPython.core.display.Javascript object>"
      ]
     },
     "metadata": {},
     "output_type": "display_data"
    },
    {
     "data": {
      "application/javascript": [
       "download(\"download_0556669f-de4b-4905-a26e-6b42a2f2971a\", \"sorted_output.zip\", 1209290)"
      ],
      "text/plain": [
       "<IPython.core.display.Javascript object>"
      ]
     },
     "metadata": {},
     "output_type": "display_data"
    }
   ],
   "source": [
    "from google.colab import files\n",
    "import shutil\n",
    "import os\n",
    "\n",
    "# Define the folder to be downloaded\n",
    "folder_to_download = \"/content/sorted_output\"\n",
    "\n",
    "# Create a zip file of the folder\n",
    "zip_filename = \"sorted_output.zip\"\n",
    "shutil.make_archive(zip_filename.replace(\".zip\", \"\"), 'zip', folder_to_download)\n",
    "\n",
    "# Download the zip file\n",
    "files.download(zip_filename)"
   ]
  },
  {
   "cell_type": "code",
   "execution_count": 20,
   "metadata": {},
   "outputs": [
    {
     "name": "stdout",
     "output_type": "stream",
     "text": [
      "Contents of '/content/sample_data' deleted.\n",
      "'/content/sample_data' recreated.\n"
     ]
    }
   ],
   "source": [
    "import os\n",
    "import shutil\n",
    "\n",
    "mixed_folder = \"/content/sample_data\"\n",
    "\n",
    "# Remove the directory and all its contents\n",
    "if os.path.exists(mixed_folder):\n",
    "    shutil.rmtree(mixed_folder)\n",
    "    print(f\"Contents of '{mixed_folder}' deleted.\")\n",
    "\n",
    "# Recreate the directory\n",
    "os.makedirs(mixed_folder)\n",
    "print(f\"'{mixed_folder}' recreated.\")"
   ]
  },
  {
   "cell_type": "code",
   "execution_count": 21,
   "metadata": {},
   "outputs": [
    {
     "name": "stdout",
     "output_type": "stream",
     "text": [
      "✅ Mixed folder created with 10000 images.\n",
      "⚠️ No ground-truth available, only sorted images.\n"
     ]
    }
   ],
   "source": [
    "import os\n",
    "import shutil\n",
    "import random\n",
    "import torch\n",
    "import torch.nn as nn\n",
    "from torchvision import models, transforms\n",
    "from PIL import Image\n",
    "\n",
    "# ----------------------------\n",
    "# Configuration\n",
    "# ----------------------------\n",
    "train_data_dir = \"/content/train\"             # your training dataset (with class subfolders)\n",
    "test_data_dir = \"/content/test\"               # your test dataset (with class subfolders)\n",
    "mixed_folder = \"/content/mixed_images\"        # will be created: mixed test images\n",
    "output_folder = \"/content/sorted_output\"      # classified output\n",
    "weights_path = \"/content/resnet50_weights.pth\" # safer: use state_dict file\n",
    "\n",
    "num_classes = len(os.listdir(train_data_dir))\n",
    "device = torch.device(\"cuda\" if torch.cuda.is_available() else \"cpu\")\n",
    "\n",
    "# ----------------------------\n",
    "# Step 1: Create Mixed Folder\n",
    "# ----------------------------\n",
    "if os.path.exists(mixed_folder):\n",
    "    shutil.rmtree(mixed_folder)\n",
    "os.makedirs(mixed_folder)\n",
    "\n",
    "# Copy all test images (ignoring folder structure) into mixed folder\n",
    "for class_name in os.listdir(test_data_dir):\n",
    "    class_path = os.path.join(test_data_dir, class_name)\n",
    "    if not os.path.isdir(class_path):\n",
    "        continue\n",
    "    for img_file in os.listdir(class_path):\n",
    "        if img_file.lower().endswith((\".jpg\", \".jpeg\", \".png\")):\n",
    "            src = os.path.join(class_path, img_file)\n",
    "            dst = os.path.join(mixed_folder, f\"{class_name}_{img_file}\")\n",
    "            shutil.copy(src, dst)\n",
    "\n",
    "print(f\"✅ Mixed folder created with {len(os.listdir(mixed_folder))} images.\")\n",
    "\n",
    "# ----------------------------\n",
    "# Step 2: Load Model\n",
    "# ----------------------------\n",
    "model = models.resnet50(weights=None)\n",
    "num_ftrs = model.fc.in_features\n",
    "model.fc = nn.Linear(num_ftrs, num_classes)\n",
    "\n",
    "state_dict = torch.load(weights_path, map_location=device, weights_only=True)\n",
    "model.load_state_dict(state_dict)\n",
    "model = model.to(device)\n",
    "model.eval()\n",
    "\n",
    "# Class names from training data\n",
    "class_names = sorted(os.listdir(train_data_dir))\n",
    "\n",
    "# ----------------------------\n",
    "# Transform (must match training)\n",
    "# ----------------------------\n",
    "transform = transforms.Compose([\n",
    "    transforms.Resize(256),\n",
    "    transforms.CenterCrop(224),\n",
    "    transforms.ToTensor(),\n",
    "    transforms.Normalize([0.485, 0.456, 0.406],\n",
    "                         [0.229, 0.224, 0.225])\n",
    "])\n",
    "\n",
    "# ----------------------------\n",
    "# Helper: Predict Class\n",
    "# ----------------------------\n",
    "def predict_image(image_path):\n",
    "    image = Image.open(image_path).convert(\"RGB\")\n",
    "    img_tensor = transform(image).unsqueeze(0).to(device)\n",
    "    with torch.no_grad():\n",
    "        outputs = model(img_tensor)\n",
    "        _, pred = torch.max(outputs, 1)\n",
    "    return class_names[pred.item()]\n",
    "\n",
    "# ----------------------------\n",
    "# Step 3: Classify Mixed Images\n",
    "# ----------------------------\n",
    "if os.path.exists(output_folder):\n",
    "    shutil.rmtree(output_folder)\n",
    "os.makedirs(output_folder)\n",
    "\n",
    "correct, total = 0, 0\n",
    "for img_file in os.listdir(mixed_folder):\n",
    "    img_path = os.path.join(mixed_folder, img_file)\n",
    "    if not img_file.lower().endswith((\".jpg\", \".jpeg\", \".png\")):\n",
    "        continue\n",
    "\n",
    "    pred_class = predict_image(img_path)\n",
    "\n",
    "    # Copy to output folder\n",
    "    dest_dir = os.path.join(output_folder, pred_class)\n",
    "    os.makedirs(dest_dir, exist_ok=True)\n",
    "    shutil.copy(img_path, dest_dir)\n",
    "\n",
    "    # Ground truth is prefix of filename (added during mixing)\n",
    "    gt_class = img_file.split(\"_\")[0]\n",
    "    if gt_class in class_names:\n",
    "        total += 1\n",
    "        if pred_class == gt_class:\n",
    "            correct += 1\n",
    "\n",
    "# ----------------------------\n",
    "# Step 4: Print Accuracy\n",
    "# ----------------------------\n",
    "if total > 0:\n",
    "    print(f\"✅ Classification complete! Accuracy: {100 * correct / total:.2f}% \"\n",
    "          f\"({correct}/{total})\")\n",
    "else:\n",
    "    print(\"⚠️ No ground-truth available, only sorted images.\")\n"
   ]
  },
  {
   "cell_type": "code",
   "execution_count": 24,
   "metadata": {},
   "outputs": [
    {
     "name": "stdout",
     "output_type": "stream",
     "text": [
      "✅ Test Accuracy: 93.79% (9379/10000)\n"
     ]
    }
   ],
   "source": [
    "import os\n",
    "import torch\n",
    "import torch.nn as nn\n",
    "from torchvision import models, datasets, transforms\n",
    "from torch.utils.data import DataLoader\n",
    "\n",
    "# ----------------------------\n",
    "# Configuration\n",
    "# ----------------------------\n",
    "train_data_dir = \"/content/train\"             # training folder (for class names)\n",
    "test_data_dir = \"/content/validation\"               # test folder (with subfolders per class)\n",
    "weights_path = \"/content/resnet50_weights.pth\" # state_dict file you saved\n",
    "\n",
    "num_classes = len(os.listdir(train_data_dir))\n",
    "device = torch.device(\"cuda\" if torch.cuda.is_available() else \"cpu\")\n",
    "\n",
    "# ----------------------------\n",
    "# Load Model\n",
    "# ----------------------------\n",
    "model = models.resnet50(weights=None)\n",
    "num_ftrs = model.fc.in_features\n",
    "model.fc = nn.Linear(num_ftrs, num_classes)\n",
    "\n",
    "state_dict = torch.load(weights_path, map_location=device, weights_only=True)\n",
    "model.load_state_dict(state_dict)\n",
    "model = model.to(device)\n",
    "model.eval()\n",
    "\n",
    "# ----------------------------\n",
    "# Data Loader for Test Set\n",
    "# ----------------------------\n",
    "transform = transforms.Compose([\n",
    "    transforms.Resize(256),\n",
    "    transforms.CenterCrop(224),\n",
    "    transforms.ToTensor(),\n",
    "    transforms.Normalize([0.485, 0.456, 0.406],\n",
    "                         [0.229, 0.224, 0.225])\n",
    "])\n",
    "\n",
    "test_dataset = datasets.ImageFolder(test_data_dir, transform=transform)\n",
    "test_loader = DataLoader(test_dataset, batch_size=32, shuffle=False)\n",
    "\n",
    "# ----------------------------\n",
    "# Accuracy Calculation\n",
    "# ----------------------------\n",
    "correct, total = 0, 0\n",
    "with torch.no_grad():\n",
    "    for images, labels in test_loader:\n",
    "        images, labels = images.to(device), labels.to(device)\n",
    "        outputs = model(images)\n",
    "        _, preds = torch.max(outputs, 1)\n",
    "        correct += (preds == labels).sum().item()\n",
    "        total += labels.size(0)\n",
    "\n",
    "accuracy = 100 * correct / total\n",
    "print(f\"✅ Test Accuracy: {accuracy:.2f}% ({correct}/{total})\")\n"
   ]
  }
 ],
 "metadata": {
  "language_info": {
   "name": "python"
  }
 },
 "nbformat": 4,
 "nbformat_minor": 0
}
